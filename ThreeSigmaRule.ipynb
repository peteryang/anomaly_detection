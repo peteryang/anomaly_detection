{
 "cells": [
  {
   "cell_type": "code",
   "execution_count": 1,
   "metadata": {},
   "outputs": [],
   "source": [
    "# Three Sigma Rule\n",
    "import numpy as np\n",
    "\n",
    "def ThreeSigmaRule(data, NStd):\n",
    "\n",
    "    #define threshold\n",
    "    threshold = np.std(data) * NStd\n",
    "\n",
    "    #detection Outliers\n",
    "    outliersList = [y for y in data if (np.abs(y - np.mean(data)) > threshold)]\n",
    "\n",
    "    print(\"Algorithm : Three Sigma Rule\")\n",
    "\n",
    "    if len(outliersList) > 0:\n",
    "\n",
    "        print(\"There are: \", len(outliersList), \" Outliers. You used \", NStd, \" Standard Deviation\")\n",
    "        print(\"Your Outlier List is :\", str(outliersList).strip('[]'))\n",
    "        return (outliersList)\n",
    "\n",
    "    else :\n",
    "        print(\"Three are No Outliers\")\n",
    "\n",
    "\n"
   ]
  },
  {
   "cell_type": "code",
   "execution_count": 2,
   "metadata": {},
   "outputs": [
    {
     "name": "stdout",
     "output_type": "stream",
     "text": [
      "Algorithm : Three Sigma Rule\n",
      "There are:  1  Outliers. You used  2  Standard Deviation\n",
      "Your Outlier List is : 25\n"
     ]
    },
    {
     "data": {
      "text/plain": [
       "[25]"
      ]
     },
     "execution_count": 2,
     "metadata": {},
     "output_type": "execute_result"
    }
   ],
   "source": [
    "list = [2,4,5,6,9,12,25]\n",
    "\n",
    "#First Parameter  :  data\n",
    "#Second Parameter : Number of Standard Deviations\n",
    "ThreeSigmaRule(list, 2)"
   ]
  },
  {
   "cell_type": "code",
   "execution_count": null,
   "metadata": {},
   "outputs": [],
   "source": []
  }
 ],
 "metadata": {
  "kernelspec": {
   "display_name": "Python 3",
   "language": "python",
   "name": "python3"
  },
  "language_info": {
   "codemirror_mode": {
    "name": "ipython",
    "version": 3
   },
   "file_extension": ".py",
   "mimetype": "text/x-python",
   "name": "python",
   "nbconvert_exporter": "python",
   "pygments_lexer": "ipython3",
   "version": "3.6.8"
  }
 },
 "nbformat": 4,
 "nbformat_minor": 2
}
