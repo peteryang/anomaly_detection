{
 "cells": [
  {
   "cell_type": "code",
   "execution_count": 1,
   "metadata": {},
   "outputs": [],
   "source": [
    "# Adjusted Boxplot Rule\n",
    "import numpy as np\n",
    "from statsmodels.stats.stattools import medcouple\n",
    "\n",
    "def AdjustedBoxplotRule(data):\n",
    "\n",
    "    q1 = np.percentile(data, 25)\n",
    "\n",
    "    q3 = np.percentile(data, 75)\n",
    "\n",
    "    iqr = q3 - q1\n",
    "\n",
    "    mc = medcouple(data)\n",
    "\n",
    "    # detection Outliers\n",
    "    if (mc >= 0) :\n",
    "\n",
    "        outliersList = [y for y in data if ((y > q3 + 1.5 * iqr * np.exp(3 * mc)) or (y < q1 - 1.5 * iqr * np.exp(-4 * mc)))]\n",
    "\n",
    "    else :\n",
    "\n",
    "        outliersList = [y for y in data if ((y > q3 + 1.5 * iqr * np.exp(4 * mc)) or (y < q1 - 1.5 * iqr * np.exp(-3 * mc)))]\n",
    "\n",
    "\n",
    "    print(\"Adjusted Boxplot Rule\")\n",
    "\n",
    "    if len(outliersList) > 0:\n",
    "\n",
    "        print(\"There are: \", len(outliersList), \"Outliers\")\n",
    "        print(\"Your Outlier List is :\", str(outliersList).strip('[]'))\n",
    "        return (outliersList)\n",
    "\n",
    "    else :\n",
    "        print(\"Three are No Outliers\")\n"
   ]
  },
  {
   "cell_type": "code",
   "execution_count": 2,
   "metadata": {},
   "outputs": [
    {
     "name": "stdout",
     "output_type": "stream",
     "text": [
      "Adjusted Boxplot Rule\n",
      "There are:  1 Outliers\n",
      "Your Outlier List is : 100\n"
     ]
    },
    {
     "data": {
      "text/plain": [
       "[100]"
      ]
     },
     "execution_count": 2,
     "metadata": {},
     "output_type": "execute_result"
    }
   ],
   "source": [
    "list = [1,2,3,5,10,100]\n",
    "\n",
    "#Parameter  : Data\n",
    "AdjustedBoxplotRule(list)"
   ]
  },
  {
   "cell_type": "code",
   "execution_count": null,
   "metadata": {},
   "outputs": [],
   "source": []
  }
 ],
 "metadata": {
  "kernelspec": {
   "display_name": "Python 3",
   "language": "python",
   "name": "python3"
  },
  "language_info": {
   "codemirror_mode": {
    "name": "ipython",
    "version": 3
   },
   "file_extension": ".py",
   "mimetype": "text/x-python",
   "name": "python",
   "nbconvert_exporter": "python",
   "pygments_lexer": "ipython3",
   "version": "3.6.8"
  }
 },
 "nbformat": 4,
 "nbformat_minor": 2
}
