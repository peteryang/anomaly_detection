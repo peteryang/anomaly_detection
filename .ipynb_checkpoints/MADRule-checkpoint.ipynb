{
 "cells": [
  {
   "cell_type": "code",
   "execution_count": null,
   "metadata": {},
   "outputs": [],
   "source": [
    "# MAD Rule\n",
    "from statsmodels import robust\n",
    "import numpy as np\n",
    "\n",
    "def MADRule(data, NStd):\n",
    "\n",
    "    # define threshold : robust.mad(data) = robust.mad(data, c=1)/0.6745\n",
    "    threshold = robust.mad(data, c=1) * NStd / 0.6745\n",
    "\n",
    "    # detection Outliers\n",
    "    outliersList = [y for y in data if (np.abs(y - np.median(data)) > threshold)]\n",
    "    print(\"Algorithm : MAD Rule\")\n",
    "\n",
    "    if len(outliersList) > 0:\n",
    "\n",
    "        print(\"Your Outlier List is :\", str(outliersList).strip('[]'))\n",
    "        return (outliersList)\n",
    "\n",
    "    else :\n",
    "        print(\"Three are No Outliers\")\n",
    "\n",
    "\n"
   ]
  },
  {
   "cell_type": "code",
   "execution_count": null,
   "metadata": {},
   "outputs": [],
   "source": [
    "list = [0,1,1,1,2,4,10,150,1000]\n",
    "\n",
    "#First Parameter  :  data\n",
    "#Second Parameter : Number of Standard Deviations\n",
    "MADRule(list, 2)"
   ]
  }
 ],
 "metadata": {
  "kernelspec": {
   "display_name": "Python 3",
   "language": "python",
   "name": "python3"
  },
  "language_info": {
   "codemirror_mode": {
    "name": "ipython",
    "version": 3
   },
   "file_extension": ".py",
   "mimetype": "text/x-python",
   "name": "python",
   "nbconvert_exporter": "python",
   "pygments_lexer": "ipython3",
   "version": "3.6.8"
  }
 },
 "nbformat": 4,
 "nbformat_minor": 2
}
