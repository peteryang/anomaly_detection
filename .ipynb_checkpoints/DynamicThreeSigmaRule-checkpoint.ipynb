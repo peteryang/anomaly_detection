{
 "cells": [
  {
   "cell_type": "code",
   "execution_count": null,
   "metadata": {},
   "outputs": [],
   "source": [
    "# Dynamic Three Sigma Rule\n",
    "import numpy as np\n",
    "\n",
    "\n",
    "def DynamicThreeSigmaRule(data, NStd, MaxIteration):\n",
    "\n",
    "    Iteration = 0;\n",
    "\n",
    "    outliersList = []\n",
    "\n",
    "    while (Iteration < MaxIteration):\n",
    "\n",
    "        Iteration = Iteration + 1\n",
    "\n",
    "        #define threshold\n",
    "        threshold = np.std(data) * NStd\n",
    "\n",
    "        #detection Outliers\n",
    "        outliersList_step = [y for y in data if (np.abs(y - np.mean(data)) > threshold)]\n",
    "\n",
    "        if (len(outliersList_step) > 0):\n",
    "\n",
    "            outliersList = outliersList + outliersList_step\n",
    "\n",
    "            # Update data - remove otliers from the list\n",
    "            data = [x for x in data if x not in outliersList_step]\n",
    "\n",
    "        else :\n",
    "\n",
    "            break\n",
    "\n",
    "    print(\"Algorithm : Dynamic Three Sigma Rule\")\n",
    "\n",
    "    if len(outliersList) > 0:\n",
    "\n",
    "        print(\"There are: \", len(outliersList), \" Outliers. You used \", NStd, \" Standard Deviation\")\n",
    "        print(\"Your Outlier List is :\", str(outliersList).strip('[]'))\n",
    "\n",
    "        return (outliersList)\n",
    "\n",
    "    else :\n",
    "        print(\"Three are No Outliers\")\n",
    "\n",
    "\n"
   ]
  },
  {
   "cell_type": "code",
   "execution_count": null,
   "metadata": {},
   "outputs": [],
   "source": [
    "\n",
    "list = [1,3,5,5,5,8,8,9,500,1000]\n",
    "\n",
    "#First Parameter  : Data\n",
    "#Second Parameter : Number of Standard Deviations\n",
    "#Third Parameter  : Maximum number of iteration\n",
    "DynamicThreeSigmaRule(list, 2, 3)"
   ]
  }
 ],
 "metadata": {
  "kernelspec": {
   "display_name": "Python 3",
   "language": "python",
   "name": "python3"
  },
  "language_info": {
   "codemirror_mode": {
    "name": "ipython",
    "version": 3
   },
   "file_extension": ".py",
   "mimetype": "text/x-python",
   "name": "python",
   "nbconvert_exporter": "python",
   "pygments_lexer": "ipython3",
   "version": "3.6.8"
  }
 },
 "nbformat": 4,
 "nbformat_minor": 2
}
