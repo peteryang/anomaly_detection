{
 "cells": [
  {
   "cell_type": "code",
   "execution_count": null,
   "metadata": {},
   "outputs": [],
   "source": [
    "# Boxplot Rule\n",
    "import numpy as np\n",
    "\n",
    "def BoxplotRule(data):\n",
    "\n",
    "    q1 = np.percentile(data, 25)\n",
    "\n",
    "    q3 = np.percentile(data, 75)\n",
    "\n",
    "    iqr = q3 - q1\n",
    "\n",
    "    # detection Outliers\n",
    "    outliersList = [y for y in data if ((y > q3 + 1.5 * iqr) or (y < q1 - 1.5 * iqr))]\n",
    "\n",
    "    print(\"Boxplot Rule\")\n",
    "\n",
    "    if len(outliersList) > 0:\n",
    "\n",
    "        print(\"There are: \", len(outliersList), \"Outliers\")\n",
    "        print(\"Your Outlier List is :\", str(outliersList).strip('[]'))\n",
    "        return (outliersList)\n",
    "\n",
    "    else :\n",
    "        print(\"Three are No Outliers\")\n",
    "\n",
    "\n"
   ]
  },
  {
   "cell_type": "code",
   "execution_count": null,
   "metadata": {},
   "outputs": [],
   "source": [
    "list = [-9,-2,-1,0,0,0,0,0,0,0,1,1,1,1,1,15]\n",
    "\n",
    "#Parameter  : Data\n",
    "BoxplotRule(list)"
   ]
  }
 ],
 "metadata": {
  "kernelspec": {
   "display_name": "Python 3",
   "language": "python",
   "name": "python3"
  },
  "language_info": {
   "codemirror_mode": {
    "name": "ipython",
    "version": 3
   },
   "file_extension": ".py",
   "mimetype": "text/x-python",
   "name": "python",
   "nbconvert_exporter": "python",
   "pygments_lexer": "ipython3",
   "version": "3.6.8"
  }
 },
 "nbformat": 4,
 "nbformat_minor": 2
}
