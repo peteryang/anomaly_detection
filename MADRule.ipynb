{
 "cells": [
  {
   "cell_type": "code",
   "execution_count": 2,
   "metadata": {
    "scrolled": true
   },
   "outputs": [
    {
     "name": "stdout",
     "output_type": "stream",
     "text": [
      "Requirement already satisfied: statsmodels in c:\\users\\p1313129\\appdata\\roaming\\python\\python36\\site-packages (0.10.1)\n",
      "Requirement already satisfied: pandas>=0.19 in d:\\development\\anaconda3\\envs\\dlcv\\lib\\site-packages (from statsmodels) (0.24.2)\n",
      "Requirement already satisfied: patsy>=0.4.0 in c:\\users\\p1313129\\appdata\\roaming\\python\\python36\\site-packages (from statsmodels) (0.5.1)\n",
      "Requirement already satisfied: numpy>=1.11 in d:\\development\\anaconda3\\envs\\dlcv\\lib\\site-packages (from statsmodels) (1.16.4)\n",
      "Requirement already satisfied: scipy>=0.18 in d:\\development\\anaconda3\\envs\\dlcv\\lib\\site-packages (from statsmodels) (1.3.0)\n",
      "Requirement already satisfied: pytz>=2011k in d:\\development\\anaconda3\\envs\\dlcv\\lib\\site-packages (from pandas>=0.19->statsmodels) (2019.1)\n",
      "Requirement already satisfied: python-dateutil>=2.5.0 in d:\\development\\anaconda3\\envs\\dlcv\\lib\\site-packages (from pandas>=0.19->statsmodels) (2.8.0)\n",
      "Requirement already satisfied: six in d:\\development\\anaconda3\\envs\\dlcv\\lib\\site-packages (from patsy>=0.4.0->statsmodels) (1.12.0)\n"
     ]
    }
   ],
   "source": [
    "import sys\n",
    "!{sys.executable} -m pip install --user statsmodels"
   ]
  },
  {
   "cell_type": "code",
   "execution_count": 3,
   "metadata": {},
   "outputs": [],
   "source": [
    "# MAD Rule\n",
    "from statsmodels import robust\n",
    "import numpy as np\n",
    "\n",
    "def MADRule(data, NStd):\n",
    "\n",
    "    # define threshold : robust.mad(data) = robust.mad(data, c=1)/0.6745\n",
    "    threshold = robust.mad(data, c=1) * NStd / 0.6745\n",
    "\n",
    "    # detection Outliers\n",
    "    outliersList = [y for y in data if (np.abs(y - np.median(data)) > threshold)]\n",
    "    print(\"Algorithm : MAD Rule\")\n",
    "\n",
    "    if len(outliersList) > 0:\n",
    "\n",
    "        print(\"Your Outlier List is :\", str(outliersList).strip('[]'))\n",
    "        return (outliersList)\n",
    "\n",
    "    else :\n",
    "        print(\"Three are No Outliers\")\n",
    "\n",
    "\n"
   ]
  },
  {
   "cell_type": "code",
   "execution_count": null,
   "metadata": {},
   "outputs": [],
   "source": []
  },
  {
   "cell_type": "code",
   "execution_count": 4,
   "metadata": {},
   "outputs": [
    {
     "name": "stdout",
     "output_type": "stream",
     "text": [
      "Algorithm : MAD Rule\n",
      "Your Outlier List is : 10, 150, 1000\n"
     ]
    },
    {
     "data": {
      "text/plain": [
       "[10, 150, 1000]"
      ]
     },
     "execution_count": 4,
     "metadata": {},
     "output_type": "execute_result"
    }
   ],
   "source": [
    "list = [0,1,1,1,2,4,10,150,1000]\n",
    "\n",
    "#First Parameter  :  data\n",
    "#Second Parameter : Number of Standard Deviations\n",
    "MADRule(list, 2)"
   ]
  },
  {
   "cell_type": "code",
   "execution_count": null,
   "metadata": {},
   "outputs": [],
   "source": []
  }
 ],
 "metadata": {
  "kernelspec": {
   "display_name": "Python 3",
   "language": "python",
   "name": "python3"
  },
  "language_info": {
   "codemirror_mode": {
    "name": "ipython",
    "version": 3
   },
   "file_extension": ".py",
   "mimetype": "text/x-python",
   "name": "python",
   "nbconvert_exporter": "python",
   "pygments_lexer": "ipython3",
   "version": "3.6.8"
  }
 },
 "nbformat": 4,
 "nbformat_minor": 2
}
